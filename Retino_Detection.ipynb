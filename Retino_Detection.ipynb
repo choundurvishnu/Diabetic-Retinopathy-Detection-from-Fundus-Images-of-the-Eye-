{
 "cells": [
  {
   "cell_type": "code",
   "execution_count": null,
   "id": "77e06873",
   "metadata": {},
   "outputs": [],
   "source": [
    "import pandas as pd\n",
    "import numpy as np\n",
    "import os\n",
    "import cv2\n",
    "from sklearn.model_selection import train_test_split\n",
    "from sklearn.metrics import classification_report, confusion_matrix, accuracy_score\n",
    "from tensorflow.keras.applications import ResNet50, VGG16\n",
    "from tensorflow.keras.models import Model\n",
    "from tensorflow.keras.layers import Dense, Flatten, Dropout, GlobalAveragePooling2D\n",
    "from tensorflow.keras.preprocessing.image import ImageDataGenerator\n",
    "from tensorflow.keras.callbacks import EarlyStopping, ModelCheckpoint\n",
    "from tensorflow.keras.optimizers import Adam\n",
    "from tensorflow.keras.utils import to_categorical\n",
    "import matplotlib.pyplot as plt\n",
    "import seaborn as sns\n",
    "import h5py"
   ]
  },
  {
   "cell_type": "code",
   "execution_count": null,
   "id": "60052164",
   "metadata": {},
   "outputs": [],
   "source": [
    "!pip install py7zr\n",
    "import py7zr"
   ]
  },
  {
   "cell_type": "code",
   "execution_count": null,
   "id": "06665822",
   "metadata": {},
   "outputs": [],
   "source": [
    "#!apt install p7zip-full -y\n",
    "\n",
    "!\"C:/Program Files/7-Zip/7z.exe\" x \"C:/Users/choun/OneDrive/Desktop/Retinal_dataset/train/train.zip.001\" -o\"C:/Users/choun/OneDrive/Desktop/Retinal_dataset/train/extracted_images/\""
   ]
  },
  {
   "cell_type": "code",
   "execution_count": null,
   "id": "7e6f06e6",
   "metadata": {},
   "outputs": [],
   "source": [
    "df = pd.read_csv('C:/Users/choun/OneDrive/Desktop/Retinal_dataset/trainLabels.csv')\n",
    "\n",
    "\n",
    "train_dir = 'C:/Users/choun/OneDrive/Desktop/Retinal_dataset/train/'\n",
    "image_dir = \"C:/Users/choun/OneDrive/Desktop/Retinal_dataset/train/extracted_images/train/\"\n",
    "#test_dir = 'C:/Users/choun/OneDrive/Desktop/Retinal_dataset/'"
   ]
  },
  {
   "cell_type": "code",
   "execution_count": null,
   "id": "550ad7aa",
   "metadata": {},
   "outputs": [],
   "source": [
    "df.head()"
   ]
  },
  {
   "cell_type": "code",
   "execution_count": null,
   "id": "9e43b02c",
   "metadata": {},
   "outputs": [],
   "source": [
    "df[['ID', 'Position']] = df['image'].str.split('_', expand=True)\n",
    "df.head()"
   ]
  },
  {
   "cell_type": "code",
   "execution_count": null,
   "id": "74474343",
   "metadata": {},
   "outputs": [],
   "source": [
    "df.info()"
   ]
  },
  {
   "cell_type": "code",
   "execution_count": null,
   "id": "c412f62a",
   "metadata": {},
   "outputs": [],
   "source": [
    "df['ID'] = df['ID'].astype(int)\n",
    "df.describe(include='all')"
   ]
  },
  {
   "cell_type": "code",
   "execution_count": null,
   "id": "82f78102",
   "metadata": {},
   "outputs": [],
   "source": [
    "df.level.unique()"
   ]
  },
  {
   "cell_type": "code",
   "execution_count": null,
   "id": "0b26c531",
   "metadata": {},
   "outputs": [],
   "source": [
    "r_names = [\"No DR\" , \"Mild\" , \"Moderate\" , \"Severe\" , \"Proliferative\"]\n",
    "r_map = dict(zip(df.level.unique(),r_names))\n",
    "r_map"
   ]
  },
  {
   "cell_type": "code",
   "execution_count": null,
   "id": "7cdf9ee2",
   "metadata": {},
   "outputs": [],
   "source": [
    "r_freq = df['level'].value_counts()\n",
    "r_freq_df = r_freq.reset_index()\n",
    "r_freq_df.column = ['level','count']\n",
    "r_freq_df['label'] = r_freq_df['level'].map(r_map)\n",
    "\n",
    "plt.figure(figsize=(8, 6))\n",
    "sns.set_style(\"whitegrid\")\n",
    "barplot = sns.barplot(data=r_freq_df, x='label', y='count', palette='viridis')\n",
    "\n",
    "for index, row in r_freq_df.iterrows():\n",
    "    barplot.text(index, row['count'] + 500, f\"{row['count']}\", color='black', ha=\"center\", fontweight='bold')\n",
    "\n",
    "plt.title('Frequency of Diabetic Retinopathy Levels')\n",
    "plt.xlabel('DR Level')\n",
    "plt.ylabel('Frequency')\n",
    "plt.tight_layout()\n",
    "plt.show()"
   ]
  },
  {
   "cell_type": "code",
   "execution_count": null,
   "id": "8642a25a",
   "metadata": {},
   "outputs": [],
   "source": [
    "df['image_path']=df['image'].apply(lambda x:os.path.join(image_dir,x+ '.jpeg'))\n",
    "df['level']=df['level'].astype(str)"
   ]
  },
  {
   "cell_type": "code",
   "execution_count": null,
   "id": "b8055887",
   "metadata": {},
   "outputs": [],
   "source": [
    "df.head()"
   ]
  },
  {
   "cell_type": "code",
   "execution_count": null,
   "id": "577284df",
   "metadata": {},
   "outputs": [],
   "source": [
    "IMG_SIZE = 224"
   ]
  },
  {
   "cell_type": "code",
   "execution_count": null,
   "id": "1ad49d63",
   "metadata": {},
   "outputs": [],
   "source": [
    "import cv2\n",
    "import numpy as np\n",
    "from tensorflow.keras.utils import to_categorical\n",
    "from concurrent.futures import ThreadPoolExecutor, as_completed\n",
    "\n",
    "\n",
    "\n",
    "def process_row(row, img_size):\n",
    "    try:\n",
    "        img_path = row['image_path']\n",
    "        label = int(row['level'])\n",
    "        \n",
    "        img = cv2.imread(img_path, cv2.IMREAD_COLOR)\n",
    "        if img is None:\n",
    "            print(f\"Failed to load {img_path}\")\n",
    "            return None\n",
    "        \n",
    "        img = cv2.resize(img, (img_size, img_size))\n",
    "        img = img.astype(np.float32) / 255.0  # Normalize\n",
    "        return img, label\n",
    "    except Exception as e:\n",
    "        print(f\"Error processing {row['image_path']}: {e}\")\n",
    "        return None\n",
    "\n",
    "def load_images_fast(df, img_size=IMG_SIZE, max_workers=8):\n",
    "    images = []\n",
    "    labels = []\n",
    "    \n",
    "    with ThreadPoolExecutor(max_workers=max_workers) as executor:\n",
    "        futures = [executor.submit(process_row, row, img_size) for _, row in df.iterrows()]\n",
    "        \n",
    "        for count, future in enumerate(as_completed(futures), 1):\n",
    "            result = future.result()\n",
    "            if result is not None:\n",
    "                img, label = result\n",
    "                images.append(img)\n",
    "                labels.append(label)\n",
    "            \n",
    "            if count % 1000 == 0:\n",
    "                print(f\"Processed {count} images.\")\n",
    "    \n",
    "    return np.array(images), np.array(labels)\n",
    "\n",
    "X, y = load_images_fast(df, img_size=IMG_SIZE, max_workers=8)\n",
    "y_cat = to_categorical(y, num_classes=5)\n",
    "\n",
    "print(\"Images shape:\", X.shape)\n",
    "print(\"Labels shape:\", y_cat.shape)"
   ]
  },
  {
   "cell_type": "code",
   "execution_count": null,
   "id": "3850ff22",
   "metadata": {},
   "outputs": [],
   "source": [
    "X_train, X_val, y_train, y_val = train_test_split(X, y_cat, test_size=0.2, random_state=42, stratify=y)"
   ]
  },
  {
   "cell_type": "code",
   "execution_count": null,
   "id": "91cf0e5b",
   "metadata": {},
   "outputs": [],
   "source": [
    "save_path = 'C:/Users/choun/OneDrive/Desktop/Retinal_dataset/train/extracted_images/save/'"
   ]
  },
  {
   "cell_type": "code",
   "execution_count": null,
   "id": "67616041",
   "metadata": {},
   "outputs": [],
   "source": [
    "with h5py.File(save_path + 'dataset_split.h5', 'w') as hf:\n",
    "    hf.create_dataset('X_train', data=X_train, compression='gzip')\n",
    "    hf.create_dataset('X_val', data=X_val, compression='gzip')\n",
    "    hf.create_dataset('y_train', data=y_train, compression='gzip')\n",
    "    hf.create_dataset('y_val', data=y_val, compression='gzip')"
   ]
  },
  {
   "cell_type": "code",
   "execution_count": null,
   "id": "9a0de026",
   "metadata": {},
   "outputs": [],
   "source": [
    "# Load datasets\n",
    "with h5py.File(save_path + 'dataset_split.h5', 'r') as hf:\n",
    "    X_train = hf['X_train'][:]  # This is an h5py dataset object\n",
    "    X_val = hf['X_val'][:]\n",
    "    y_train = hf['y_train'][:]\n",
    "    y_val = hf['y_val'][:]\n",
    "\n",
    "print(\"Datasets successfully loaded from your laptop!\")"
   ]
  },
  {
   "cell_type": "code",
   "execution_count": null,
   "id": "07b5f765",
   "metadata": {},
   "outputs": [],
   "source": [
    "X_val"
   ]
  },
  {
   "cell_type": "code",
   "execution_count": null,
   "id": "74945844",
   "metadata": {},
   "outputs": [],
   "source": [
    "X_val[0:100]"
   ]
  },
  {
   "cell_type": "code",
   "execution_count": null,
   "id": "dd1084ca",
   "metadata": {},
   "outputs": [],
   "source": [
    "X"
   ]
  },
  {
   "cell_type": "code",
   "execution_count": null,
   "id": "65a4a263",
   "metadata": {},
   "outputs": [],
   "source": [
    "def build_resnet(input_shape=(IMG_SIZE, IMG_SIZE, 3), num_classes=5):\n",
    "    base_model = ResNet50(weights='imagenet', include_top=False, input_shape=input_shape)\n",
    "    for layer in base_model.layers:\n",
    "        layer.trainable = False  # Freeze base layers\n",
    "\n",
    "    x = GlobalAveragePooling2D()(base_model.output)\n",
    "    x = Dense(512, activation='relu')(x)\n",
    "    x = Dropout(0.5)(x)\n",
    "    output = Dense(num_classes, activation='softmax')(x)\n",
    "    \n",
    "    model = Model(inputs=base_model.input, outputs=output)\n",
    "    model.compile(optimizer=Adam(learning_rate=0.0001), loss='categorical_crossentropy', metrics=['accuracy'])\n",
    "    return model\n",
    "\n",
    "resnet_model = build_resnet()\n",
    "resnet_model.summary()"
   ]
  },
  {
   "cell_type": "code",
   "execution_count": null,
   "id": "86bfd21a",
   "metadata": {
    "scrolled": false
   },
   "outputs": [],
   "source": [
    "from tensorflow.keras.preprocessing.image import ImageDataGenerator\n",
    "from tensorflow.keras.callbacks import EarlyStopping, ModelCheckpoint\n",
    "from tensorflow.keras.applications import ResNet50\n",
    "from tensorflow.keras import layers, models, optimizers\n",
    "\n",
    "IMG_SIZE = 224\n",
    "BATCH_SIZE = 64\n",
    "EPOCHS = 20\n",
    "\n",
    "datagen = ImageDataGenerator(\n",
    "    rescale=1./255,\n",
    "    rotation_range=20,\n",
    "    zoom_range=0.15,\n",
    "    width_shift_range=0.2,\n",
    "    height_shift_range=0.2,\n",
    "    shear_range=0.15,\n",
    "    horizontal_flip=True,\n",
    "    fill_mode=\"nearest\"\n",
    ")\n",
    "\n",
    "val_datagen = ImageDataGenerator(rescale=1./255)\n",
    "\n",
    "train_generator = datagen.flow(\n",
    "    X_train,         \n",
    "    y_train,         \n",
    "    batch_size=BATCH_SIZE,\n",
    "    shuffle=True\n",
    ")\n",
    "\n",
    "val_generator = val_datagen.flow(\n",
    "    X_val,          \n",
    "    y_val,          \n",
    "    batch_size=BATCH_SIZE,\n",
    "    shuffle=False\n",
    ")\n",
    "\n",
    "# Callbacks\n",
    "callbacks = [\n",
    "    EarlyStopping(patience=5, monitor='val_loss', restore_best_weights=True),\n",
    "    ModelCheckpoint(\n",
    "        filepath='C:/Users/choun/OneDrive/Desktop/Retinal_dataset/best_model.h5',\n",
    "        save_best_only=True,\n",
    "        monitor='val_loss'\n",
    "    )\n",
    "]\n",
    "\n",
    "\n",
    "base_model = ResNet50(weights='imagenet', include_top=False, input_shape=(IMG_SIZE, IMG_SIZE, 3))\n",
    "base_model.trainable = False  \n",
    "\n",
    "resnet_model = models.Sequential([\n",
    "    base_model,\n",
    "    layers.GlobalAveragePooling2D(),\n",
    "    layers.Dense(256, activation='relu'),\n",
    "    layers.Dropout(0.5),\n",
    "    layers.Dense(y_train.shape[1], activation='softmax')  # Use shape from y_train (one-hot)\n",
    "])\n",
    "\n",
    "resnet_model.compile(optimizer=optimizers.Adam(learning_rate=1e-4),\n",
    "                     loss='categorical_crossentropy',\n",
    "                     metrics=['accuracy'])\n",
    "\n",
    "# Train the model\n",
    "history_resnet = resnet_model.fit(\n",
    "    train_generator,\n",
    "    epochs=EPOCHS,\n",
    "    validation_data=val_generator,\n",
    "    callbacks=callbacks,\n",
    "    workers=1,              \n",
    "    #use_multiprocessing=True\n",
    ")\n"
   ]
  },
  {
   "cell_type": "code",
   "execution_count": null,
   "id": "e5465232",
   "metadata": {},
   "outputs": [],
   "source": [
    "from tensorflow.keras.models import load_model\n",
    "model = load_model('C:/Users/choun/OneDrive/Desktop/Retinal_dataset/best_model.h5')\n",
    "\n",
    "model.summary()"
   ]
  },
  {
   "cell_type": "code",
   "execution_count": null,
   "id": "734b787a",
   "metadata": {},
   "outputs": [],
   "source": [
    "val_preds = model.predict(X_val)\n",
    "val_preds_class = np.argmax(val_preds, axis=1)\n",
    "y_val_class = np.argmax(y_val, axis=1)\n",
    "\n",
    "# Report\n",
    "print(classification_report(y_val_class, val_preds_class))\n",
    "sns.heatmap(confusion_matrix(y_val_class, val_preds_class), annot=True)\n",
    "plt.show()"
   ]
  },
  {
   "cell_type": "code",
   "execution_count": null,
   "id": "db028649",
   "metadata": {},
   "outputs": [],
   "source": []
  }
 ],
 "metadata": {
  "kernelspec": {
   "display_name": "Python 3 (ipykernel)",
   "language": "python",
   "name": "python3"
  },
  "language_info": {
   "codemirror_mode": {
    "name": "ipython",
    "version": 3
   },
   "file_extension": ".py",
   "mimetype": "text/x-python",
   "name": "python",
   "nbconvert_exporter": "python",
   "pygments_lexer": "ipython3",
   "version": "3.11.5"
  }
 },
 "nbformat": 4,
 "nbformat_minor": 5
}
